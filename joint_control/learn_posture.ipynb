{
 "cells": [
  {
   "cell_type": "markdown",
   "metadata": {},
   "source": [
    "# Learn Posture"
   ]
  },
  {
   "cell_type": "markdown",
   "metadata": {},
   "source": [
    "use machine learning to recognize robot's posture (following the example in [scikit-learn-intro.ipynb](./scikit-learn-intro.ipynb) )"
   ]
  },
  {
   "cell_type": "markdown",
   "metadata": {},
   "source": [
    "## 1. Data collection\n",
    "\n",
    "We have colleceted data before, you need to add new data if you want to add new posture.\n",
    "\n",
    "* the dateset are in *robot_pose_data* folder\n",
    "* each file contains the data belongs to this posture, e.g. the data in *Back* file are collected when robot was in \"Back\" posture\n",
    "* the data file can be load by ```pickle```, e.g. ```pickle.load(open('Back'))```, the data is a list of feature data\n",
    "* the features (e.g. each row of the data) are ['LHipYawPitch', 'LHipRoll', 'LHipPitch', 'LKneePitch', 'RHipYawPitch', 'RHipRoll', 'RHipPitch', 'RKneePitch', 'AngleX', 'AngleY'], where 'AngleX' and 'AngleY' are body angle (e.g. ```Perception.imu```) and others are joint angles."
   ]
  },
  {
   "cell_type": "markdown",
   "metadata": {},
   "source": [
    "## 2. Data preprocessing"
   ]
  },
  {
   "cell_type": "code",
   "execution_count": 212,
   "metadata": {},
   "outputs": [],
   "source": [
    "%matplotlib inline\n",
    "import pickle\n",
    "from os import listdir, path\n",
    "import numpy as np\n",
    "from sklearn import svm, metrics\n",
    "\n",
    "ROBOT_POSE_DATA_DIR = 'robot_pose_data'"
   ]
  },
  {
   "cell_type": "code",
   "execution_count": 213,
   "metadata": {
    "scrolled": true
   },
   "outputs": [
    {
     "name": "stdout",
     "output_type": "stream",
     "text": [
      "['Back', 'Belly', 'Crouch', 'Frog', 'HeadBack', 'Knee', 'Left', 'Right', 'Sit', 'Stand', 'StandInit']\n"
     ]
    }
   ],
   "source": [
    "classes = listdir(ROBOT_POSE_DATA_DIR)\n",
    "print(classes)"
   ]
  },
  {
   "cell_type": "code",
   "execution_count": 214,
   "metadata": {},
   "outputs": [],
   "source": [
    "def load_pose_data(i):\n",
    "    '''load pose data from file'''\n",
    "    data = []\n",
    "    target = []\n",
    "    # YOUR CODE HERE\n",
    "    \n",
    "    filename = path.join(ROBOT_POSE_DATA_DIR, classes[i])\n",
    "    #data = open(filename, 'rb')\n",
    "    #of = data.read()\n",
    "    #of = bytes(pickle.load(data))\n",
    "    #data.close()\n",
    "    #data = data.read()\n",
    "    #data.seek(0)\n",
    "    #f = bytes(data.read())\n",
    "    data = pickle.load(open(filename, 'rb'))\n",
    "    target = [i] * len(data)\n",
    "    return data, target"
   ]
  },
  {
   "cell_type": "code",
   "execution_count": 215,
   "metadata": {},
   "outputs": [
    {
     "ename": "ValueError",
     "evalue": "could not convert string to float",
     "output_type": "error",
     "traceback": [
      "\u001b[1;31m---------------------------------------------------------------------------\u001b[0m",
      "\u001b[1;31mValueError\u001b[0m                                Traceback (most recent call last)",
      "\u001b[1;32mc:\\Users\\Maxim Smoljar\\Desktop\\TU Berlin\\8. Semester\\RoboCup\\git_repo\\programming-humanoid-robot-in-python\\joint_control\\learn_posture.ipynb Cell 8'\u001b[0m in \u001b[0;36m<cell line: 5>\u001b[1;34m()\u001b[0m\n\u001b[0;32m      <a href='vscode-notebook-cell:/c%3A/Users/Maxim%20Smoljar/Desktop/TU%20Berlin/8.%20Semester/RoboCup/git_repo/programming-humanoid-robot-in-python/joint_control/learn_posture.ipynb#ch0000007?line=3'>4</a>\u001b[0m \u001b[39m# YOUR CODE HERE\u001b[39;00m\n\u001b[0;32m      <a href='vscode-notebook-cell:/c%3A/Users/Maxim%20Smoljar/Desktop/TU%20Berlin/8.%20Semester/RoboCup/git_repo/programming-humanoid-robot-in-python/joint_control/learn_posture.ipynb#ch0000007?line=4'>5</a>\u001b[0m \u001b[39mfor\u001b[39;00m i \u001b[39min\u001b[39;00m \u001b[39mrange\u001b[39m(\u001b[39mlen\u001b[39m(classes)):\n\u001b[1;32m----> <a href='vscode-notebook-cell:/c%3A/Users/Maxim%20Smoljar/Desktop/TU%20Berlin/8.%20Semester/RoboCup/git_repo/programming-humanoid-robot-in-python/joint_control/learn_posture.ipynb#ch0000007?line=5'>6</a>\u001b[0m     data, target \u001b[39m=\u001b[39m load_pose_data(i)\n\u001b[0;32m      <a href='vscode-notebook-cell:/c%3A/Users/Maxim%20Smoljar/Desktop/TU%20Berlin/8.%20Semester/RoboCup/git_repo/programming-humanoid-robot-in-python/joint_control/learn_posture.ipynb#ch0000007?line=6'>7</a>\u001b[0m     all_data\u001b[39m.\u001b[39mextend(data)\n\u001b[0;32m      <a href='vscode-notebook-cell:/c%3A/Users/Maxim%20Smoljar/Desktop/TU%20Berlin/8.%20Semester/RoboCup/git_repo/programming-humanoid-robot-in-python/joint_control/learn_posture.ipynb#ch0000007?line=7'>8</a>\u001b[0m     all_target\u001b[39m.\u001b[39mextend(target)\n",
      "\u001b[1;32mc:\\Users\\Maxim Smoljar\\Desktop\\TU Berlin\\8. Semester\\RoboCup\\git_repo\\programming-humanoid-robot-in-python\\joint_control\\learn_posture.ipynb Cell 7'\u001b[0m in \u001b[0;36mload_pose_data\u001b[1;34m(i)\u001b[0m\n\u001b[0;32m      <a href='vscode-notebook-cell:/c%3A/Users/Maxim%20Smoljar/Desktop/TU%20Berlin/8.%20Semester/RoboCup/git_repo/programming-humanoid-robot-in-python/joint_control/learn_posture.ipynb#ch0000006?line=6'>7</a>\u001b[0m filename \u001b[39m=\u001b[39m path\u001b[39m.\u001b[39mjoin(ROBOT_POSE_DATA_DIR, classes[i])\n\u001b[0;32m      <a href='vscode-notebook-cell:/c%3A/Users/Maxim%20Smoljar/Desktop/TU%20Berlin/8.%20Semester/RoboCup/git_repo/programming-humanoid-robot-in-python/joint_control/learn_posture.ipynb#ch0000006?line=7'>8</a>\u001b[0m \u001b[39m#data = open(filename, 'rb')\u001b[39;00m\n\u001b[0;32m      <a href='vscode-notebook-cell:/c%3A/Users/Maxim%20Smoljar/Desktop/TU%20Berlin/8.%20Semester/RoboCup/git_repo/programming-humanoid-robot-in-python/joint_control/learn_posture.ipynb#ch0000006?line=8'>9</a>\u001b[0m \u001b[39m#of = data.read()\u001b[39;00m\n\u001b[0;32m     <a href='vscode-notebook-cell:/c%3A/Users/Maxim%20Smoljar/Desktop/TU%20Berlin/8.%20Semester/RoboCup/git_repo/programming-humanoid-robot-in-python/joint_control/learn_posture.ipynb#ch0000006?line=9'>10</a>\u001b[0m \u001b[39m#of = bytes(pickle.load(data))\u001b[39;00m\n\u001b[1;32m   (...)\u001b[0m\n\u001b[0;32m     <a href='vscode-notebook-cell:/c%3A/Users/Maxim%20Smoljar/Desktop/TU%20Berlin/8.%20Semester/RoboCup/git_repo/programming-humanoid-robot-in-python/joint_control/learn_posture.ipynb#ch0000006?line=12'>13</a>\u001b[0m \u001b[39m#data.seek(0)\u001b[39;00m\n\u001b[0;32m     <a href='vscode-notebook-cell:/c%3A/Users/Maxim%20Smoljar/Desktop/TU%20Berlin/8.%20Semester/RoboCup/git_repo/programming-humanoid-robot-in-python/joint_control/learn_posture.ipynb#ch0000006?line=13'>14</a>\u001b[0m \u001b[39m#f = bytes(data.read())\u001b[39;00m\n\u001b[1;32m---> <a href='vscode-notebook-cell:/c%3A/Users/Maxim%20Smoljar/Desktop/TU%20Berlin/8.%20Semester/RoboCup/git_repo/programming-humanoid-robot-in-python/joint_control/learn_posture.ipynb#ch0000006?line=14'>15</a>\u001b[0m data \u001b[39m=\u001b[39m pickle\u001b[39m.\u001b[39;49mload(\u001b[39mopen\u001b[39;49m(filename, \u001b[39m'\u001b[39;49m\u001b[39mrb\u001b[39;49m\u001b[39m'\u001b[39;49m))\n\u001b[0;32m     <a href='vscode-notebook-cell:/c%3A/Users/Maxim%20Smoljar/Desktop/TU%20Berlin/8.%20Semester/RoboCup/git_repo/programming-humanoid-robot-in-python/joint_control/learn_posture.ipynb#ch0000006?line=15'>16</a>\u001b[0m target \u001b[39m=\u001b[39m [i] \u001b[39m*\u001b[39m \u001b[39mlen\u001b[39m(data)\n\u001b[0;32m     <a href='vscode-notebook-cell:/c%3A/Users/Maxim%20Smoljar/Desktop/TU%20Berlin/8.%20Semester/RoboCup/git_repo/programming-humanoid-robot-in-python/joint_control/learn_posture.ipynb#ch0000006?line=16'>17</a>\u001b[0m \u001b[39mreturn\u001b[39;00m data, target\n",
      "\u001b[1;31mValueError\u001b[0m: could not convert string to float"
     ]
    }
   ],
   "source": [
    "# load all the data\n",
    "all_data = []\n",
    "all_target = []\n",
    "# YOUR CODE HERE\n",
    "for i in range(len(classes)):\n",
    "    data, target = load_pose_data(i)\n",
    "    all_data.extend(data)\n",
    "    all_target.extend(target)\n",
    "\n",
    "print('total number of data', len(all_data))\n"
   ]
  },
  {
   "cell_type": "code",
   "execution_count": null,
   "metadata": {},
   "outputs": [],
   "source": [
    "# shuffule data\n",
    "permutation = np.random.permutation(len(all_data))\n",
    "n_training_data = int(len(all_data) * 0.7)\n",
    "training_data = permutation[:n_training_data]"
   ]
  },
  {
   "cell_type": "markdown",
   "metadata": {},
   "source": [
    "## 3. Learn on training data\n",
    "\n",
    "In scikit-learn, an estimator for classification is a Python object that implements the methods fit(X, y) and predict(T). An example of an estimator is the class sklearn.svm.SVC that implements support vector classification."
   ]
  },
  {
   "cell_type": "code",
   "execution_count": null,
   "metadata": {},
   "outputs": [],
   "source": [
    "clf = svm.SVC(gamma=0.001, C=100.)"
   ]
  },
  {
   "cell_type": "markdown",
   "metadata": {},
   "source": [
    "### learning"
   ]
  },
  {
   "cell_type": "code",
   "execution_count": null,
   "metadata": {},
   "outputs": [
    {
     "ename": "ValueError",
     "evalue": "setting an array element with a sequence. The requested array has an inhomogeneous shape after 1 dimensions. The detected shape was (15,) + inhomogeneous part.",
     "output_type": "error",
     "traceback": [
      "\u001b[1;31m---------------------------------------------------------------------------\u001b[0m",
      "\u001b[1;31mValueError\u001b[0m                                Traceback (most recent call last)",
      "\u001b[1;32mc:\\Users\\Maxim Smoljar\\Desktop\\TU Berlin\\8. Semester\\RoboCup\\git_repo\\programming-humanoid-robot-in-python\\joint_control\\learn_posture.ipynb Cell 13'\u001b[0m in \u001b[0;36m<cell line: 7>\u001b[1;34m()\u001b[0m\n\u001b[0;32m      <a href='vscode-notebook-cell:/c%3A/Users/Maxim%20Smoljar/Desktop/TU%20Berlin/8.%20Semester/RoboCup/git_repo/programming-humanoid-robot-in-python/joint_control/learn_posture.ipynb#ch0000012?line=4'>5</a>\u001b[0m     t_data\u001b[39m.\u001b[39mappend(all_data[i])\n\u001b[0;32m      <a href='vscode-notebook-cell:/c%3A/Users/Maxim%20Smoljar/Desktop/TU%20Berlin/8.%20Semester/RoboCup/git_repo/programming-humanoid-robot-in-python/joint_control/learn_posture.ipynb#ch0000012?line=5'>6</a>\u001b[0m     t_target\u001b[39m.\u001b[39mappend(all_target[i])\n\u001b[1;32m----> <a href='vscode-notebook-cell:/c%3A/Users/Maxim%20Smoljar/Desktop/TU%20Berlin/8.%20Semester/RoboCup/git_repo/programming-humanoid-robot-in-python/joint_control/learn_posture.ipynb#ch0000012?line=6'>7</a>\u001b[0m clf\u001b[39m.\u001b[39;49mfit(t_data, t_target)\n",
      "File \u001b[1;32mc:\\Users\\Maxim Smoljar\\AppData\\Local\\Programs\\Python\\Python310\\lib\\site-packages\\sklearn\\svm\\_base.py:173\u001b[0m, in \u001b[0;36mBaseLibSVM.fit\u001b[1;34m(self, X, y, sample_weight)\u001b[0m\n\u001b[0;32m    <a href='file:///c%3A/Users/Maxim%20Smoljar/AppData/Local/Programs/Python/Python310/lib/site-packages/sklearn/svm/_base.py?line=170'>171</a>\u001b[0m     check_consistent_length(X, y)\n\u001b[0;32m    <a href='file:///c%3A/Users/Maxim%20Smoljar/AppData/Local/Programs/Python/Python310/lib/site-packages/sklearn/svm/_base.py?line=171'>172</a>\u001b[0m \u001b[39melse\u001b[39;00m:\n\u001b[1;32m--> <a href='file:///c%3A/Users/Maxim%20Smoljar/AppData/Local/Programs/Python/Python310/lib/site-packages/sklearn/svm/_base.py?line=172'>173</a>\u001b[0m     X, y \u001b[39m=\u001b[39m \u001b[39mself\u001b[39;49m\u001b[39m.\u001b[39;49m_validate_data(\n\u001b[0;32m    <a href='file:///c%3A/Users/Maxim%20Smoljar/AppData/Local/Programs/Python/Python310/lib/site-packages/sklearn/svm/_base.py?line=173'>174</a>\u001b[0m         X,\n\u001b[0;32m    <a href='file:///c%3A/Users/Maxim%20Smoljar/AppData/Local/Programs/Python/Python310/lib/site-packages/sklearn/svm/_base.py?line=174'>175</a>\u001b[0m         y,\n\u001b[0;32m    <a href='file:///c%3A/Users/Maxim%20Smoljar/AppData/Local/Programs/Python/Python310/lib/site-packages/sklearn/svm/_base.py?line=175'>176</a>\u001b[0m         dtype\u001b[39m=\u001b[39;49mnp\u001b[39m.\u001b[39;49mfloat64,\n\u001b[0;32m    <a href='file:///c%3A/Users/Maxim%20Smoljar/AppData/Local/Programs/Python/Python310/lib/site-packages/sklearn/svm/_base.py?line=176'>177</a>\u001b[0m         order\u001b[39m=\u001b[39;49m\u001b[39m\"\u001b[39;49m\u001b[39mC\u001b[39;49m\u001b[39m\"\u001b[39;49m,\n\u001b[0;32m    <a href='file:///c%3A/Users/Maxim%20Smoljar/AppData/Local/Programs/Python/Python310/lib/site-packages/sklearn/svm/_base.py?line=177'>178</a>\u001b[0m         accept_sparse\u001b[39m=\u001b[39;49m\u001b[39m\"\u001b[39;49m\u001b[39mcsr\u001b[39;49m\u001b[39m\"\u001b[39;49m,\n\u001b[0;32m    <a href='file:///c%3A/Users/Maxim%20Smoljar/AppData/Local/Programs/Python/Python310/lib/site-packages/sklearn/svm/_base.py?line=178'>179</a>\u001b[0m         accept_large_sparse\u001b[39m=\u001b[39;49m\u001b[39mFalse\u001b[39;49;00m,\n\u001b[0;32m    <a href='file:///c%3A/Users/Maxim%20Smoljar/AppData/Local/Programs/Python/Python310/lib/site-packages/sklearn/svm/_base.py?line=179'>180</a>\u001b[0m     )\n\u001b[0;32m    <a href='file:///c%3A/Users/Maxim%20Smoljar/AppData/Local/Programs/Python/Python310/lib/site-packages/sklearn/svm/_base.py?line=181'>182</a>\u001b[0m y \u001b[39m=\u001b[39m \u001b[39mself\u001b[39m\u001b[39m.\u001b[39m_validate_targets(y)\n\u001b[0;32m    <a href='file:///c%3A/Users/Maxim%20Smoljar/AppData/Local/Programs/Python/Python310/lib/site-packages/sklearn/svm/_base.py?line=183'>184</a>\u001b[0m sample_weight \u001b[39m=\u001b[39m np\u001b[39m.\u001b[39masarray(\n\u001b[0;32m    <a href='file:///c%3A/Users/Maxim%20Smoljar/AppData/Local/Programs/Python/Python310/lib/site-packages/sklearn/svm/_base.py?line=184'>185</a>\u001b[0m     [] \u001b[39mif\u001b[39;00m sample_weight \u001b[39mis\u001b[39;00m \u001b[39mNone\u001b[39;00m \u001b[39melse\u001b[39;00m sample_weight, dtype\u001b[39m=\u001b[39mnp\u001b[39m.\u001b[39mfloat64\n\u001b[0;32m    <a href='file:///c%3A/Users/Maxim%20Smoljar/AppData/Local/Programs/Python/Python310/lib/site-packages/sklearn/svm/_base.py?line=185'>186</a>\u001b[0m )\n",
      "File \u001b[1;32mc:\\Users\\Maxim Smoljar\\AppData\\Local\\Programs\\Python\\Python310\\lib\\site-packages\\sklearn\\base.py:596\u001b[0m, in \u001b[0;36mBaseEstimator._validate_data\u001b[1;34m(self, X, y, reset, validate_separately, **check_params)\u001b[0m\n\u001b[0;32m    <a href='file:///c%3A/Users/Maxim%20Smoljar/AppData/Local/Programs/Python/Python310/lib/site-packages/sklearn/base.py?line=593'>594</a>\u001b[0m         y \u001b[39m=\u001b[39m check_array(y, input_name\u001b[39m=\u001b[39m\u001b[39m\"\u001b[39m\u001b[39my\u001b[39m\u001b[39m\"\u001b[39m, \u001b[39m*\u001b[39m\u001b[39m*\u001b[39mcheck_y_params)\n\u001b[0;32m    <a href='file:///c%3A/Users/Maxim%20Smoljar/AppData/Local/Programs/Python/Python310/lib/site-packages/sklearn/base.py?line=594'>595</a>\u001b[0m     \u001b[39melse\u001b[39;00m:\n\u001b[1;32m--> <a href='file:///c%3A/Users/Maxim%20Smoljar/AppData/Local/Programs/Python/Python310/lib/site-packages/sklearn/base.py?line=595'>596</a>\u001b[0m         X, y \u001b[39m=\u001b[39m check_X_y(X, y, \u001b[39m*\u001b[39m\u001b[39m*\u001b[39mcheck_params)\n\u001b[0;32m    <a href='file:///c%3A/Users/Maxim%20Smoljar/AppData/Local/Programs/Python/Python310/lib/site-packages/sklearn/base.py?line=596'>597</a>\u001b[0m     out \u001b[39m=\u001b[39m X, y\n\u001b[0;32m    <a href='file:///c%3A/Users/Maxim%20Smoljar/AppData/Local/Programs/Python/Python310/lib/site-packages/sklearn/base.py?line=598'>599</a>\u001b[0m \u001b[39mif\u001b[39;00m \u001b[39mnot\u001b[39;00m no_val_X \u001b[39mand\u001b[39;00m check_params\u001b[39m.\u001b[39mget(\u001b[39m\"\u001b[39m\u001b[39mensure_2d\u001b[39m\u001b[39m\"\u001b[39m, \u001b[39mTrue\u001b[39;00m):\n",
      "File \u001b[1;32mc:\\Users\\Maxim Smoljar\\AppData\\Local\\Programs\\Python\\Python310\\lib\\site-packages\\sklearn\\utils\\validation.py:1074\u001b[0m, in \u001b[0;36mcheck_X_y\u001b[1;34m(X, y, accept_sparse, accept_large_sparse, dtype, order, copy, force_all_finite, ensure_2d, allow_nd, multi_output, ensure_min_samples, ensure_min_features, y_numeric, estimator)\u001b[0m\n\u001b[0;32m   <a href='file:///c%3A/Users/Maxim%20Smoljar/AppData/Local/Programs/Python/Python310/lib/site-packages/sklearn/utils/validation.py?line=1068'>1069</a>\u001b[0m         estimator_name \u001b[39m=\u001b[39m _check_estimator_name(estimator)\n\u001b[0;32m   <a href='file:///c%3A/Users/Maxim%20Smoljar/AppData/Local/Programs/Python/Python310/lib/site-packages/sklearn/utils/validation.py?line=1069'>1070</a>\u001b[0m     \u001b[39mraise\u001b[39;00m \u001b[39mValueError\u001b[39;00m(\n\u001b[0;32m   <a href='file:///c%3A/Users/Maxim%20Smoljar/AppData/Local/Programs/Python/Python310/lib/site-packages/sklearn/utils/validation.py?line=1070'>1071</a>\u001b[0m         \u001b[39mf\u001b[39m\u001b[39m\"\u001b[39m\u001b[39m{\u001b[39;00mestimator_name\u001b[39m}\u001b[39;00m\u001b[39m requires y to be passed, but the target y is None\u001b[39m\u001b[39m\"\u001b[39m\n\u001b[0;32m   <a href='file:///c%3A/Users/Maxim%20Smoljar/AppData/Local/Programs/Python/Python310/lib/site-packages/sklearn/utils/validation.py?line=1071'>1072</a>\u001b[0m     )\n\u001b[1;32m-> <a href='file:///c%3A/Users/Maxim%20Smoljar/AppData/Local/Programs/Python/Python310/lib/site-packages/sklearn/utils/validation.py?line=1073'>1074</a>\u001b[0m X \u001b[39m=\u001b[39m check_array(\n\u001b[0;32m   <a href='file:///c%3A/Users/Maxim%20Smoljar/AppData/Local/Programs/Python/Python310/lib/site-packages/sklearn/utils/validation.py?line=1074'>1075</a>\u001b[0m     X,\n\u001b[0;32m   <a href='file:///c%3A/Users/Maxim%20Smoljar/AppData/Local/Programs/Python/Python310/lib/site-packages/sklearn/utils/validation.py?line=1075'>1076</a>\u001b[0m     accept_sparse\u001b[39m=\u001b[39;49maccept_sparse,\n\u001b[0;32m   <a href='file:///c%3A/Users/Maxim%20Smoljar/AppData/Local/Programs/Python/Python310/lib/site-packages/sklearn/utils/validation.py?line=1076'>1077</a>\u001b[0m     accept_large_sparse\u001b[39m=\u001b[39;49maccept_large_sparse,\n\u001b[0;32m   <a href='file:///c%3A/Users/Maxim%20Smoljar/AppData/Local/Programs/Python/Python310/lib/site-packages/sklearn/utils/validation.py?line=1077'>1078</a>\u001b[0m     dtype\u001b[39m=\u001b[39;49mdtype,\n\u001b[0;32m   <a href='file:///c%3A/Users/Maxim%20Smoljar/AppData/Local/Programs/Python/Python310/lib/site-packages/sklearn/utils/validation.py?line=1078'>1079</a>\u001b[0m     order\u001b[39m=\u001b[39;49morder,\n\u001b[0;32m   <a href='file:///c%3A/Users/Maxim%20Smoljar/AppData/Local/Programs/Python/Python310/lib/site-packages/sklearn/utils/validation.py?line=1079'>1080</a>\u001b[0m     copy\u001b[39m=\u001b[39;49mcopy,\n\u001b[0;32m   <a href='file:///c%3A/Users/Maxim%20Smoljar/AppData/Local/Programs/Python/Python310/lib/site-packages/sklearn/utils/validation.py?line=1080'>1081</a>\u001b[0m     force_all_finite\u001b[39m=\u001b[39;49mforce_all_finite,\n\u001b[0;32m   <a href='file:///c%3A/Users/Maxim%20Smoljar/AppData/Local/Programs/Python/Python310/lib/site-packages/sklearn/utils/validation.py?line=1081'>1082</a>\u001b[0m     ensure_2d\u001b[39m=\u001b[39;49mensure_2d,\n\u001b[0;32m   <a href='file:///c%3A/Users/Maxim%20Smoljar/AppData/Local/Programs/Python/Python310/lib/site-packages/sklearn/utils/validation.py?line=1082'>1083</a>\u001b[0m     allow_nd\u001b[39m=\u001b[39;49mallow_nd,\n\u001b[0;32m   <a href='file:///c%3A/Users/Maxim%20Smoljar/AppData/Local/Programs/Python/Python310/lib/site-packages/sklearn/utils/validation.py?line=1083'>1084</a>\u001b[0m     ensure_min_samples\u001b[39m=\u001b[39;49mensure_min_samples,\n\u001b[0;32m   <a href='file:///c%3A/Users/Maxim%20Smoljar/AppData/Local/Programs/Python/Python310/lib/site-packages/sklearn/utils/validation.py?line=1084'>1085</a>\u001b[0m     ensure_min_features\u001b[39m=\u001b[39;49mensure_min_features,\n\u001b[0;32m   <a href='file:///c%3A/Users/Maxim%20Smoljar/AppData/Local/Programs/Python/Python310/lib/site-packages/sklearn/utils/validation.py?line=1085'>1086</a>\u001b[0m     estimator\u001b[39m=\u001b[39;49mestimator,\n\u001b[0;32m   <a href='file:///c%3A/Users/Maxim%20Smoljar/AppData/Local/Programs/Python/Python310/lib/site-packages/sklearn/utils/validation.py?line=1086'>1087</a>\u001b[0m     input_name\u001b[39m=\u001b[39;49m\u001b[39m\"\u001b[39;49m\u001b[39mX\u001b[39;49m\u001b[39m\"\u001b[39;49m,\n\u001b[0;32m   <a href='file:///c%3A/Users/Maxim%20Smoljar/AppData/Local/Programs/Python/Python310/lib/site-packages/sklearn/utils/validation.py?line=1087'>1088</a>\u001b[0m )\n\u001b[0;32m   <a href='file:///c%3A/Users/Maxim%20Smoljar/AppData/Local/Programs/Python/Python310/lib/site-packages/sklearn/utils/validation.py?line=1089'>1090</a>\u001b[0m y \u001b[39m=\u001b[39m _check_y(y, multi_output\u001b[39m=\u001b[39mmulti_output, y_numeric\u001b[39m=\u001b[39my_numeric, estimator\u001b[39m=\u001b[39mestimator)\n\u001b[0;32m   <a href='file:///c%3A/Users/Maxim%20Smoljar/AppData/Local/Programs/Python/Python310/lib/site-packages/sklearn/utils/validation.py?line=1091'>1092</a>\u001b[0m check_consistent_length(X, y)\n",
      "File \u001b[1;32mc:\\Users\\Maxim Smoljar\\AppData\\Local\\Programs\\Python\\Python310\\lib\\site-packages\\sklearn\\utils\\validation.py:856\u001b[0m, in \u001b[0;36mcheck_array\u001b[1;34m(array, accept_sparse, accept_large_sparse, dtype, order, copy, force_all_finite, ensure_2d, allow_nd, ensure_min_samples, ensure_min_features, estimator, input_name)\u001b[0m\n\u001b[0;32m    <a href='file:///c%3A/Users/Maxim%20Smoljar/AppData/Local/Programs/Python/Python310/lib/site-packages/sklearn/utils/validation.py?line=853'>854</a>\u001b[0m         array \u001b[39m=\u001b[39m array\u001b[39m.\u001b[39mastype(dtype, casting\u001b[39m=\u001b[39m\u001b[39m\"\u001b[39m\u001b[39munsafe\u001b[39m\u001b[39m\"\u001b[39m, copy\u001b[39m=\u001b[39m\u001b[39mFalse\u001b[39;00m)\n\u001b[0;32m    <a href='file:///c%3A/Users/Maxim%20Smoljar/AppData/Local/Programs/Python/Python310/lib/site-packages/sklearn/utils/validation.py?line=854'>855</a>\u001b[0m     \u001b[39melse\u001b[39;00m:\n\u001b[1;32m--> <a href='file:///c%3A/Users/Maxim%20Smoljar/AppData/Local/Programs/Python/Python310/lib/site-packages/sklearn/utils/validation.py?line=855'>856</a>\u001b[0m         array \u001b[39m=\u001b[39m np\u001b[39m.\u001b[39;49masarray(array, order\u001b[39m=\u001b[39;49morder, dtype\u001b[39m=\u001b[39;49mdtype)\n\u001b[0;32m    <a href='file:///c%3A/Users/Maxim%20Smoljar/AppData/Local/Programs/Python/Python310/lib/site-packages/sklearn/utils/validation.py?line=856'>857</a>\u001b[0m \u001b[39mexcept\u001b[39;00m ComplexWarning \u001b[39mas\u001b[39;00m complex_warning:\n\u001b[0;32m    <a href='file:///c%3A/Users/Maxim%20Smoljar/AppData/Local/Programs/Python/Python310/lib/site-packages/sklearn/utils/validation.py?line=857'>858</a>\u001b[0m     \u001b[39mraise\u001b[39;00m \u001b[39mValueError\u001b[39;00m(\n\u001b[0;32m    <a href='file:///c%3A/Users/Maxim%20Smoljar/AppData/Local/Programs/Python/Python310/lib/site-packages/sklearn/utils/validation.py?line=858'>859</a>\u001b[0m         \u001b[39m\"\u001b[39m\u001b[39mComplex data not supported\u001b[39m\u001b[39m\\n\u001b[39;00m\u001b[39m{}\u001b[39;00m\u001b[39m\\n\u001b[39;00m\u001b[39m\"\u001b[39m\u001b[39m.\u001b[39mformat(array)\n\u001b[0;32m    <a href='file:///c%3A/Users/Maxim%20Smoljar/AppData/Local/Programs/Python/Python310/lib/site-packages/sklearn/utils/validation.py?line=859'>860</a>\u001b[0m     ) \u001b[39mfrom\u001b[39;00m \u001b[39mcomplex_warning\u001b[39;00m\n",
      "\u001b[1;31mValueError\u001b[0m: setting an array element with a sequence. The requested array has an inhomogeneous shape after 1 dimensions. The detected shape was (15,) + inhomogeneous part."
     ]
    }
   ],
   "source": [
    "# YOUR CODE HERE\n",
    "t_data = []\n",
    "t_target = []\n",
    "for i in training_data:\n",
    "    t_data.append(all_data[i])\n",
    "    t_target.append(all_target[i])\n",
    "clf.fit(t_data, t_target)#[:n_training_data], t_target[:n_training_data])"
   ]
  },
  {
   "cell_type": "markdown",
   "metadata": {},
   "source": [
    "### predicting"
   ]
  },
  {
   "cell_type": "code",
   "execution_count": null,
   "metadata": {},
   "outputs": [
    {
     "ename": "NotFittedError",
     "evalue": "This SVC instance is not fitted yet. Call 'fit' with appropriate arguments before using this estimator.",
     "output_type": "error",
     "traceback": [
      "\u001b[1;31m---------------------------------------------------------------------------\u001b[0m",
      "\u001b[1;31mNotFittedError\u001b[0m                            Traceback (most recent call last)",
      "\u001b[1;32mc:\\Users\\Maxim Smoljar\\Desktop\\TU Berlin\\8. Semester\\RoboCup\\git_repo\\programming-humanoid-robot-in-python\\joint_control\\learn_posture.ipynb Cell 15'\u001b[0m in \u001b[0;36m<cell line: 1>\u001b[1;34m()\u001b[0m\n\u001b[1;32m----> <a href='vscode-notebook-cell:/c%3A/Users/Maxim%20Smoljar/Desktop/TU%20Berlin/8.%20Semester/RoboCup/git_repo/programming-humanoid-robot-in-python/joint_control/learn_posture.ipynb#ch0000014?line=0'>1</a>\u001b[0m clf\u001b[39m.\u001b[39;49mpredict(all_data[\u001b[39m-\u001b[39;49m\u001b[39m1\u001b[39;49m:]), all_target[\u001b[39m-\u001b[39m\u001b[39m1\u001b[39m:]\n",
      "File \u001b[1;32mc:\\Users\\Maxim Smoljar\\AppData\\Local\\Programs\\Python\\Python310\\lib\\site-packages\\sklearn\\svm\\_base.py:797\u001b[0m, in \u001b[0;36mBaseSVC.predict\u001b[1;34m(self, X)\u001b[0m\n\u001b[0;32m    <a href='file:///c%3A/Users/Maxim%20Smoljar/AppData/Local/Programs/Python/Python310/lib/site-packages/sklearn/svm/_base.py?line=779'>780</a>\u001b[0m \u001b[39mdef\u001b[39;00m \u001b[39mpredict\u001b[39m(\u001b[39mself\u001b[39m, X):\n\u001b[0;32m    <a href='file:///c%3A/Users/Maxim%20Smoljar/AppData/Local/Programs/Python/Python310/lib/site-packages/sklearn/svm/_base.py?line=780'>781</a>\u001b[0m     \u001b[39m\"\"\"Perform classification on samples in X.\u001b[39;00m\n\u001b[0;32m    <a href='file:///c%3A/Users/Maxim%20Smoljar/AppData/Local/Programs/Python/Python310/lib/site-packages/sklearn/svm/_base.py?line=781'>782</a>\u001b[0m \n\u001b[0;32m    <a href='file:///c%3A/Users/Maxim%20Smoljar/AppData/Local/Programs/Python/Python310/lib/site-packages/sklearn/svm/_base.py?line=782'>783</a>\u001b[0m \u001b[39m    For an one-class model, +1 or -1 is returned.\u001b[39;00m\n\u001b[1;32m   (...)\u001b[0m\n\u001b[0;32m    <a href='file:///c%3A/Users/Maxim%20Smoljar/AppData/Local/Programs/Python/Python310/lib/site-packages/sklearn/svm/_base.py?line=794'>795</a>\u001b[0m \u001b[39m        Class labels for samples in X.\u001b[39;00m\n\u001b[0;32m    <a href='file:///c%3A/Users/Maxim%20Smoljar/AppData/Local/Programs/Python/Python310/lib/site-packages/sklearn/svm/_base.py?line=795'>796</a>\u001b[0m \u001b[39m    \"\"\"\u001b[39;00m\n\u001b[1;32m--> <a href='file:///c%3A/Users/Maxim%20Smoljar/AppData/Local/Programs/Python/Python310/lib/site-packages/sklearn/svm/_base.py?line=796'>797</a>\u001b[0m     check_is_fitted(\u001b[39mself\u001b[39;49m)\n\u001b[0;32m    <a href='file:///c%3A/Users/Maxim%20Smoljar/AppData/Local/Programs/Python/Python310/lib/site-packages/sklearn/svm/_base.py?line=797'>798</a>\u001b[0m     \u001b[39mif\u001b[39;00m \u001b[39mself\u001b[39m\u001b[39m.\u001b[39mbreak_ties \u001b[39mand\u001b[39;00m \u001b[39mself\u001b[39m\u001b[39m.\u001b[39mdecision_function_shape \u001b[39m==\u001b[39m \u001b[39m\"\u001b[39m\u001b[39movo\u001b[39m\u001b[39m\"\u001b[39m:\n\u001b[0;32m    <a href='file:///c%3A/Users/Maxim%20Smoljar/AppData/Local/Programs/Python/Python310/lib/site-packages/sklearn/svm/_base.py?line=798'>799</a>\u001b[0m         \u001b[39mraise\u001b[39;00m \u001b[39mValueError\u001b[39;00m(\n\u001b[0;32m    <a href='file:///c%3A/Users/Maxim%20Smoljar/AppData/Local/Programs/Python/Python310/lib/site-packages/sklearn/svm/_base.py?line=799'>800</a>\u001b[0m             \u001b[39m\"\u001b[39m\u001b[39mbreak_ties must be False when decision_function_shape is \u001b[39m\u001b[39m'\u001b[39m\u001b[39movo\u001b[39m\u001b[39m'\u001b[39m\u001b[39m\"\u001b[39m\n\u001b[0;32m    <a href='file:///c%3A/Users/Maxim%20Smoljar/AppData/Local/Programs/Python/Python310/lib/site-packages/sklearn/svm/_base.py?line=800'>801</a>\u001b[0m         )\n",
      "File \u001b[1;32mc:\\Users\\Maxim Smoljar\\AppData\\Local\\Programs\\Python\\Python310\\lib\\site-packages\\sklearn\\utils\\validation.py:1345\u001b[0m, in \u001b[0;36mcheck_is_fitted\u001b[1;34m(estimator, attributes, msg, all_or_any)\u001b[0m\n\u001b[0;32m   <a href='file:///c%3A/Users/Maxim%20Smoljar/AppData/Local/Programs/Python/Python310/lib/site-packages/sklearn/utils/validation.py?line=1339'>1340</a>\u001b[0m     fitted \u001b[39m=\u001b[39m [\n\u001b[0;32m   <a href='file:///c%3A/Users/Maxim%20Smoljar/AppData/Local/Programs/Python/Python310/lib/site-packages/sklearn/utils/validation.py?line=1340'>1341</a>\u001b[0m         v \u001b[39mfor\u001b[39;00m v \u001b[39min\u001b[39;00m \u001b[39mvars\u001b[39m(estimator) \u001b[39mif\u001b[39;00m v\u001b[39m.\u001b[39mendswith(\u001b[39m\"\u001b[39m\u001b[39m_\u001b[39m\u001b[39m\"\u001b[39m) \u001b[39mand\u001b[39;00m \u001b[39mnot\u001b[39;00m v\u001b[39m.\u001b[39mstartswith(\u001b[39m\"\u001b[39m\u001b[39m__\u001b[39m\u001b[39m\"\u001b[39m)\n\u001b[0;32m   <a href='file:///c%3A/Users/Maxim%20Smoljar/AppData/Local/Programs/Python/Python310/lib/site-packages/sklearn/utils/validation.py?line=1341'>1342</a>\u001b[0m     ]\n\u001b[0;32m   <a href='file:///c%3A/Users/Maxim%20Smoljar/AppData/Local/Programs/Python/Python310/lib/site-packages/sklearn/utils/validation.py?line=1343'>1344</a>\u001b[0m \u001b[39mif\u001b[39;00m \u001b[39mnot\u001b[39;00m fitted:\n\u001b[1;32m-> <a href='file:///c%3A/Users/Maxim%20Smoljar/AppData/Local/Programs/Python/Python310/lib/site-packages/sklearn/utils/validation.py?line=1344'>1345</a>\u001b[0m     \u001b[39mraise\u001b[39;00m NotFittedError(msg \u001b[39m%\u001b[39m {\u001b[39m\"\u001b[39m\u001b[39mname\u001b[39m\u001b[39m\"\u001b[39m: \u001b[39mtype\u001b[39m(estimator)\u001b[39m.\u001b[39m\u001b[39m__name__\u001b[39m})\n",
      "\u001b[1;31mNotFittedError\u001b[0m: This SVC instance is not fitted yet. Call 'fit' with appropriate arguments before using this estimator."
     ]
    }
   ],
   "source": [
    "clf.predict(all_data[-1:]), all_target[-1:]"
   ]
  },
  {
   "cell_type": "code",
   "execution_count": null,
   "metadata": {},
   "outputs": [],
   "source": [
    "def evaluate(expected, predicted):\n",
    "    print(\"Classification report:\\n%s\\n\" % metrics.classification_report(expected, predicted))\n",
    "\n",
    "    print(\"Confusion matrix:\\n%s\" % metrics.confusion_matrix(expected, predicted))"
   ]
  },
  {
   "cell_type": "code",
   "execution_count": null,
   "metadata": {},
   "outputs": [
    {
     "ename": "NotFittedError",
     "evalue": "This SVC instance is not fitted yet. Call 'fit' with appropriate arguments before using this estimator.",
     "output_type": "error",
     "traceback": [
      "\u001b[1;31m---------------------------------------------------------------------------\u001b[0m",
      "\u001b[1;31mNotFittedError\u001b[0m                            Traceback (most recent call last)",
      "\u001b[1;32mc:\\Users\\Maxim Smoljar\\Desktop\\TU Berlin\\8. Semester\\RoboCup\\git_repo\\programming-humanoid-robot-in-python\\joint_control\\learn_posture.ipynb Cell 17'\u001b[0m in \u001b[0;36m<cell line: 5>\u001b[1;34m()\u001b[0m\n\u001b[0;32m      <a href='vscode-notebook-cell:/c%3A/Users/Maxim%20Smoljar/Desktop/TU%20Berlin/8.%20Semester/RoboCup/git_repo/programming-humanoid-robot-in-python/joint_control/learn_posture.ipynb#ch0000016?line=2'>3</a>\u001b[0m \u001b[39m# YOUR CODE HERE\u001b[39;00m\n\u001b[0;32m      <a href='vscode-notebook-cell:/c%3A/Users/Maxim%20Smoljar/Desktop/TU%20Berlin/8.%20Semester/RoboCup/git_repo/programming-humanoid-robot-in-python/joint_control/learn_posture.ipynb#ch0000016?line=3'>4</a>\u001b[0m expected \u001b[39m=\u001b[39m t_target\n\u001b[1;32m----> <a href='vscode-notebook-cell:/c%3A/Users/Maxim%20Smoljar/Desktop/TU%20Berlin/8.%20Semester/RoboCup/git_repo/programming-humanoid-robot-in-python/joint_control/learn_posture.ipynb#ch0000016?line=4'>5</a>\u001b[0m predicted \u001b[39m=\u001b[39m clf\u001b[39m.\u001b[39;49mpredict(t_data)\n\u001b[0;32m      <a href='vscode-notebook-cell:/c%3A/Users/Maxim%20Smoljar/Desktop/TU%20Berlin/8.%20Semester/RoboCup/git_repo/programming-humanoid-robot-in-python/joint_control/learn_posture.ipynb#ch0000016?line=5'>6</a>\u001b[0m evaluate(expected, predicted)\n",
      "File \u001b[1;32mc:\\Users\\Maxim Smoljar\\AppData\\Local\\Programs\\Python\\Python310\\lib\\site-packages\\sklearn\\svm\\_base.py:797\u001b[0m, in \u001b[0;36mBaseSVC.predict\u001b[1;34m(self, X)\u001b[0m\n\u001b[0;32m    <a href='file:///c%3A/Users/Maxim%20Smoljar/AppData/Local/Programs/Python/Python310/lib/site-packages/sklearn/svm/_base.py?line=779'>780</a>\u001b[0m \u001b[39mdef\u001b[39;00m \u001b[39mpredict\u001b[39m(\u001b[39mself\u001b[39m, X):\n\u001b[0;32m    <a href='file:///c%3A/Users/Maxim%20Smoljar/AppData/Local/Programs/Python/Python310/lib/site-packages/sklearn/svm/_base.py?line=780'>781</a>\u001b[0m     \u001b[39m\"\"\"Perform classification on samples in X.\u001b[39;00m\n\u001b[0;32m    <a href='file:///c%3A/Users/Maxim%20Smoljar/AppData/Local/Programs/Python/Python310/lib/site-packages/sklearn/svm/_base.py?line=781'>782</a>\u001b[0m \n\u001b[0;32m    <a href='file:///c%3A/Users/Maxim%20Smoljar/AppData/Local/Programs/Python/Python310/lib/site-packages/sklearn/svm/_base.py?line=782'>783</a>\u001b[0m \u001b[39m    For an one-class model, +1 or -1 is returned.\u001b[39;00m\n\u001b[1;32m   (...)\u001b[0m\n\u001b[0;32m    <a href='file:///c%3A/Users/Maxim%20Smoljar/AppData/Local/Programs/Python/Python310/lib/site-packages/sklearn/svm/_base.py?line=794'>795</a>\u001b[0m \u001b[39m        Class labels for samples in X.\u001b[39;00m\n\u001b[0;32m    <a href='file:///c%3A/Users/Maxim%20Smoljar/AppData/Local/Programs/Python/Python310/lib/site-packages/sklearn/svm/_base.py?line=795'>796</a>\u001b[0m \u001b[39m    \"\"\"\u001b[39;00m\n\u001b[1;32m--> <a href='file:///c%3A/Users/Maxim%20Smoljar/AppData/Local/Programs/Python/Python310/lib/site-packages/sklearn/svm/_base.py?line=796'>797</a>\u001b[0m     check_is_fitted(\u001b[39mself\u001b[39;49m)\n\u001b[0;32m    <a href='file:///c%3A/Users/Maxim%20Smoljar/AppData/Local/Programs/Python/Python310/lib/site-packages/sklearn/svm/_base.py?line=797'>798</a>\u001b[0m     \u001b[39mif\u001b[39;00m \u001b[39mself\u001b[39m\u001b[39m.\u001b[39mbreak_ties \u001b[39mand\u001b[39;00m \u001b[39mself\u001b[39m\u001b[39m.\u001b[39mdecision_function_shape \u001b[39m==\u001b[39m \u001b[39m\"\u001b[39m\u001b[39movo\u001b[39m\u001b[39m\"\u001b[39m:\n\u001b[0;32m    <a href='file:///c%3A/Users/Maxim%20Smoljar/AppData/Local/Programs/Python/Python310/lib/site-packages/sklearn/svm/_base.py?line=798'>799</a>\u001b[0m         \u001b[39mraise\u001b[39;00m \u001b[39mValueError\u001b[39;00m(\n\u001b[0;32m    <a href='file:///c%3A/Users/Maxim%20Smoljar/AppData/Local/Programs/Python/Python310/lib/site-packages/sklearn/svm/_base.py?line=799'>800</a>\u001b[0m             \u001b[39m\"\u001b[39m\u001b[39mbreak_ties must be False when decision_function_shape is \u001b[39m\u001b[39m'\u001b[39m\u001b[39movo\u001b[39m\u001b[39m'\u001b[39m\u001b[39m\"\u001b[39m\n\u001b[0;32m    <a href='file:///c%3A/Users/Maxim%20Smoljar/AppData/Local/Programs/Python/Python310/lib/site-packages/sklearn/svm/_base.py?line=800'>801</a>\u001b[0m         )\n",
      "File \u001b[1;32mc:\\Users\\Maxim Smoljar\\AppData\\Local\\Programs\\Python\\Python310\\lib\\site-packages\\sklearn\\utils\\validation.py:1345\u001b[0m, in \u001b[0;36mcheck_is_fitted\u001b[1;34m(estimator, attributes, msg, all_or_any)\u001b[0m\n\u001b[0;32m   <a href='file:///c%3A/Users/Maxim%20Smoljar/AppData/Local/Programs/Python/Python310/lib/site-packages/sklearn/utils/validation.py?line=1339'>1340</a>\u001b[0m     fitted \u001b[39m=\u001b[39m [\n\u001b[0;32m   <a href='file:///c%3A/Users/Maxim%20Smoljar/AppData/Local/Programs/Python/Python310/lib/site-packages/sklearn/utils/validation.py?line=1340'>1341</a>\u001b[0m         v \u001b[39mfor\u001b[39;00m v \u001b[39min\u001b[39;00m \u001b[39mvars\u001b[39m(estimator) \u001b[39mif\u001b[39;00m v\u001b[39m.\u001b[39mendswith(\u001b[39m\"\u001b[39m\u001b[39m_\u001b[39m\u001b[39m\"\u001b[39m) \u001b[39mand\u001b[39;00m \u001b[39mnot\u001b[39;00m v\u001b[39m.\u001b[39mstartswith(\u001b[39m\"\u001b[39m\u001b[39m__\u001b[39m\u001b[39m\"\u001b[39m)\n\u001b[0;32m   <a href='file:///c%3A/Users/Maxim%20Smoljar/AppData/Local/Programs/Python/Python310/lib/site-packages/sklearn/utils/validation.py?line=1341'>1342</a>\u001b[0m     ]\n\u001b[0;32m   <a href='file:///c%3A/Users/Maxim%20Smoljar/AppData/Local/Programs/Python/Python310/lib/site-packages/sklearn/utils/validation.py?line=1343'>1344</a>\u001b[0m \u001b[39mif\u001b[39;00m \u001b[39mnot\u001b[39;00m fitted:\n\u001b[1;32m-> <a href='file:///c%3A/Users/Maxim%20Smoljar/AppData/Local/Programs/Python/Python310/lib/site-packages/sklearn/utils/validation.py?line=1344'>1345</a>\u001b[0m     \u001b[39mraise\u001b[39;00m NotFittedError(msg \u001b[39m%\u001b[39m {\u001b[39m\"\u001b[39m\u001b[39mname\u001b[39m\u001b[39m\"\u001b[39m: \u001b[39mtype\u001b[39m(estimator)\u001b[39m.\u001b[39m\u001b[39m__name__\u001b[39m})\n",
      "\u001b[1;31mNotFittedError\u001b[0m: This SVC instance is not fitted yet. Call 'fit' with appropriate arguments before using this estimator."
     ]
    }
   ],
   "source": [
    "expected = []\n",
    "predicted = []\n",
    "# YOUR CODE HERE\n",
    "expected = t_target\n",
    "predicted = clf.predict(t_data)\n",
    "evaluate(expected, predicted)"
   ]
  },
  {
   "cell_type": "markdown",
   "metadata": {},
   "source": [
    "## 4. Evaluate on the test data"
   ]
  },
  {
   "cell_type": "code",
   "execution_count": null,
   "metadata": {},
   "outputs": [
    {
     "ename": "AttributeError",
     "evalue": "'function' object has no attribute 'predict'",
     "output_type": "error",
     "traceback": [
      "\u001b[1;31m---------------------------------------------------------------------------\u001b[0m",
      "\u001b[1;31mAttributeError\u001b[0m                            Traceback (most recent call last)",
      "\u001b[1;32mc:\\Users\\Maxim Smoljar\\Desktop\\TU Berlin\\8. Semester\\RoboCup\\git_repo\\programming-humanoid-robot-in-python\\joint_control\\learn_posture.ipynb Cell 19'\u001b[0m in \u001b[0;36m<cell line: 15>\u001b[1;34m()\u001b[0m\n\u001b[0;32m     <a href='vscode-notebook-cell:/c%3A/Users/Maxim%20Smoljar/Desktop/TU%20Berlin/8.%20Semester/RoboCup/git_repo/programming-humanoid-robot-in-python/joint_control/learn_posture.ipynb#ch0000018?line=11'>12</a>\u001b[0m test_target \u001b[39m=\u001b[39m np\u001b[39m.\u001b[39mdelete(test_target, indices_to_delete, axis\u001b[39m=\u001b[39m\u001b[39m0\u001b[39m)\n\u001b[0;32m     <a href='vscode-notebook-cell:/c%3A/Users/Maxim%20Smoljar/Desktop/TU%20Berlin/8.%20Semester/RoboCup/git_repo/programming-humanoid-robot-in-python/joint_control/learn_posture.ipynb#ch0000018?line=13'>14</a>\u001b[0m expected \u001b[39m=\u001b[39m test_target\n\u001b[1;32m---> <a href='vscode-notebook-cell:/c%3A/Users/Maxim%20Smoljar/Desktop/TU%20Berlin/8.%20Semester/RoboCup/git_repo/programming-humanoid-robot-in-python/joint_control/learn_posture.ipynb#ch0000018?line=14'>15</a>\u001b[0m predicted \u001b[39m=\u001b[39m clf\u001b[39m.\u001b[39;49mpredict(test_data)\n\u001b[0;32m     <a href='vscode-notebook-cell:/c%3A/Users/Maxim%20Smoljar/Desktop/TU%20Berlin/8.%20Semester/RoboCup/git_repo/programming-humanoid-robot-in-python/joint_control/learn_posture.ipynb#ch0000018?line=16'>17</a>\u001b[0m evaluate(expected, predicted)\n",
      "\u001b[1;31mAttributeError\u001b[0m: 'function' object has no attribute 'predict'"
     ]
    }
   ],
   "source": [
    "expected = []\n",
    "predicted = []\n",
    "# YOUR CODE HERE\n",
    "indices_to_delete = training_data\n",
    "\n",
    "test_data = np.asarray(all_data)\n",
    "\n",
    "test_data = np.delete(test_data, indices_to_delete, axis=0) # delete the 155 training_data_elements\n",
    "# new shape: (67,10)\n",
    "\n",
    "test_target = np.asarray(all_target)\n",
    "test_target = np.delete(test_target, indices_to_delete, axis=0)\n",
    "\n",
    "expected = test_target\n",
    "predicted = clf.predict(test_data)\n",
    "\n",
    "evaluate(expected, predicted)"
   ]
  },
  {
   "cell_type": "markdown",
   "metadata": {},
   "source": [
    "## 5. Deploy to the real system\n",
    "\n",
    "We can simple use `pickle` module to serialize the trained classifier."
   ]
  },
  {
   "cell_type": "code",
   "execution_count": null,
   "metadata": {},
   "outputs": [],
   "source": [
    "import pickle\n",
    "ROBOT_POSE_CLF = 'robot_pose.pkl'\n",
    "pickle.dump(clf, open(ROBOT_POSE_CLF, 'wb'))"
   ]
  },
  {
   "cell_type": "markdown",
   "metadata": {},
   "source": [
    "Then, in the application we can load the trained classifier again."
   ]
  },
  {
   "cell_type": "code",
   "execution_count": null,
   "metadata": {},
   "outputs": [
    {
     "ename": "AttributeError",
     "evalue": "'function' object has no attribute 'predict'",
     "output_type": "error",
     "traceback": [
      "\u001b[1;31m---------------------------------------------------------------------------\u001b[0m",
      "\u001b[1;31mAttributeError\u001b[0m                            Traceback (most recent call last)",
      "\u001b[1;32mc:\\Users\\Maxim Smoljar\\Desktop\\TU Berlin\\8. Semester\\RoboCup\\git_repo\\programming-humanoid-robot-in-python\\joint_control\\learn_posture.ipynb Cell 23'\u001b[0m in \u001b[0;36m<cell line: 2>\u001b[1;34m()\u001b[0m\n\u001b[0;32m      <a href='vscode-notebook-cell:/c%3A/Users/Maxim%20Smoljar/Desktop/TU%20Berlin/8.%20Semester/RoboCup/git_repo/programming-humanoid-robot-in-python/joint_control/learn_posture.ipynb#ch0000022?line=0'>1</a>\u001b[0m clf2 \u001b[39m=\u001b[39m pickle\u001b[39m.\u001b[39mload(\u001b[39mopen\u001b[39m(ROBOT_POSE_CLF, \u001b[39m'\u001b[39m\u001b[39mrb\u001b[39m\u001b[39m'\u001b[39m))\n\u001b[1;32m----> <a href='vscode-notebook-cell:/c%3A/Users/Maxim%20Smoljar/Desktop/TU%20Berlin/8.%20Semester/RoboCup/git_repo/programming-humanoid-robot-in-python/joint_control/learn_posture.ipynb#ch0000022?line=1'>2</a>\u001b[0m clf2\u001b[39m.\u001b[39;49mpredict(all_data[\u001b[39m-\u001b[39m\u001b[39m1\u001b[39m:]), all_target[\u001b[39m-\u001b[39m\u001b[39m1\u001b[39m:]\n",
      "\u001b[1;31mAttributeError\u001b[0m: 'function' object has no attribute 'predict'"
     ]
    }
   ],
   "source": [
    "clf2 = pickle.load(open(ROBOT_POSE_CLF, 'rb'))\n",
    "clf2.predict(all_data[-1:]), all_target[-1:]"
   ]
  },
  {
   "cell_type": "code",
   "execution_count": null,
   "metadata": {
    "collapsed": true
   },
   "outputs": [],
   "source": []
  }
 ],
 "metadata": {
  "interpreter": {
   "hash": "ec935606a1fb00bd66dccd2bbe3a5e0851154c6bf998411468699336e85582b3"
  },
  "kernelspec": {
   "display_name": "Python 3.10.4 64-bit",
   "language": "python",
   "name": "python3"
  },
  "language_info": {
   "codemirror_mode": {
    "name": "ipython",
    "version": 3
   },
   "file_extension": ".py",
   "mimetype": "text/x-python",
   "name": "python",
   "nbconvert_exporter": "python",
   "pygments_lexer": "ipython3",
   "version": "3.10.4"
  },
  "widgets": {
   "state": {},
   "version": "1.0.0"
  }
 },
 "nbformat": 4,
 "nbformat_minor": 1
}
